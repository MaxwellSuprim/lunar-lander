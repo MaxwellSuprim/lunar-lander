{
 "cells": [
  {
   "cell_type": "code",
   "execution_count": 1,
   "metadata": {},
   "outputs": [],
   "source": [
    "import torch\n",
    "import torch.nn as nn\n",
    "import torch.nn.functional as F\n",
    "import torch.optim as optim\n",
    "from torch.distributions import Categorical\n",
    "\n",
    "import gym\n",
    "from tqdm import tqdm\n",
    "import numpy as np\n",
    "from collections import deque"
   ]
  },
  {
   "cell_type": "markdown",
   "metadata": {},
   "source": []
  },
  {
   "cell_type": "code",
   "execution_count": 2,
   "metadata": {},
   "outputs": [
    {
     "name": "stdout",
     "output_type": "stream",
     "text": [
      "True\n"
     ]
    }
   ],
   "source": [
    "print(torch.cuda.is_available())  # Should print True if CUDA is available\n"
   ]
  },
  {
   "cell_type": "code",
   "execution_count": 3,
   "metadata": {},
   "outputs": [
    {
     "name": "stdout",
     "output_type": "stream",
     "text": [
      "cuda\n"
     ]
    }
   ],
   "source": [
    "#discount factor for future utilities\n",
    "DISCOUNT_FACTOR = 0.99\n",
    "\n",
    "#number of episodes to run\n",
    "NUM_EPISODES = 100\n",
    "# tried training 200 episodes .took more than an hour\n",
    "#max steps per episode\n",
    "MAX_STEPS = 10000\n",
    "\n",
    "#score agent needs for environment to be solved\n",
    "SOLVED_SCORE = 195\n",
    "\n",
    "#device to run model on\n",
    "DEVICE = \"cuda\" if torch.cuda.is_available() else \"cpu\"\n",
    "print(DEVICE)"
   ]
  },
  {
   "cell_type": "code",
   "execution_count": 4,
   "metadata": {},
   "outputs": [],
   "source": [
    "#Using a neural network to learn our policy parameters\n",
    "class PolicyNetwork(nn.Module):\n",
    "\n",
    "    #Takes in observations and outputs actions\n",
    "    def __init__(self, observation_space, action_space):\n",
    "        super(PolicyNetwork, self).__init__()\n",
    "        self.input_layer = nn.Linear(observation_space, 128)\n",
    "        self.output_layer = nn.Linear(128, action_space)\n",
    "\n",
    "    #forward pass\n",
    "    def forward(self, x):\n",
    "        #input states\n",
    "        x = self.input_layer(x)\n",
    "\n",
    "        #relu activation\n",
    "        x = F.relu(x)\n",
    "\n",
    "        #actions\n",
    "        actions = self.output_layer(x)\n",
    "\n",
    "        #get softmax for a probability distribution\n",
    "        action_probs = F.softmax(actions, dim=1)\n",
    "\n",
    "        return action_probs"
   ]
  },
  {
   "cell_type": "code",
   "execution_count": 5,
   "metadata": {},
   "outputs": [],
   "source": [
    "#Using a neural network to learn state value\n",
    "class StateValueNetwork(nn.Module):\n",
    "\n",
    "    #Takes in state\n",
    "    def __init__(self, observation_space):\n",
    "        super(StateValueNetwork, self).__init__()\n",
    "\n",
    "        self.input_layer = nn.Linear(observation_space, 128)\n",
    "        self.output_layer = nn.Linear(128, 1)\n",
    "\n",
    "    def forward(self, x):\n",
    "        #input layer\n",
    "        x = self.input_layer(x)\n",
    "\n",
    "        #activiation relu\n",
    "        x = F.relu(x)\n",
    "\n",
    "        #get state value\n",
    "        state_value = self.output_layer(x)\n",
    "\n",
    "        return state_value"
   ]
  },
  {
   "cell_type": "code",
   "execution_count": 6,
   "metadata": {},
   "outputs": [],
   "source": [
    "def select_action(network, state):\n",
    "    ''' Selects an action given current state\n",
    "    Args:\n",
    "    - network (Torch NN): network to process state\n",
    "    - state (Array): Array of action space in an environment\n",
    "\n",
    "    Return:\n",
    "    - (int): action that is selected\n",
    "    - (float): log probability of selecting that action given state and network\n",
    "    '''\n",
    "\n",
    "    #convert state to float tensor, add 1 dimension, allocate tensor on device\n",
    "    state = torch.from_numpy(state).float().unsqueeze(0).to(DEVICE)\n",
    "\n",
    "    #use network to predict action probabilities\n",
    "    action_probs = network(state)\n",
    "    state = state.detach()\n",
    "\n",
    "    #sample an action using the probability distribution\n",
    "    m = Categorical(action_probs)\n",
    "    action = m.sample()\n",
    "\n",
    "    #return action\n",
    "    return action.item(), m.log_prob(action)\n",
    "#retunes selected action with its log prbability so it is well managed"
   ]
  },
  {
   "cell_type": "code",
   "execution_count": 7,
   "metadata": {},
   "outputs": [
    {
     "name": "stdout",
     "output_type": "stream",
     "text": [
      "Gym environment 'LunarLander-v2' created successfully.\n",
      "Environment and Networks Initialized\n",
      "State Space: 8 dimensions\n",
      "Action Space: 4 actions\n",
      "Policy Network: PolicyNetwork(\n",
      "  (input_layer): Linear(in_features=8, out_features=128, bias=True)\n",
      "  (output_layer): Linear(in_features=128, out_features=4, bias=True)\n",
      ")\n",
      "State Value Network: StateValueNetwork(\n",
      "  (input_layer): Linear(in_features=8, out_features=128, bias=True)\n",
      "  (output_layer): Linear(in_features=128, out_features=1, bias=True)\n",
      ")\n"
     ]
    }
   ],
   "source": [
    "\n",
    "# Try to create the LunarLander-v2 environment\n",
    "try:\n",
    "    env = gym.make('LunarLander-v2')\n",
    "    print(\"Gym environment 'LunarLander-v2' created successfully.\")\n",
    "except Exception as e:\n",
    "    print(f\"Error: {e}\")\n",
    "# Init network\n",
    "policy_network = PolicyNetwork(env.observation_space.shape[0], env.action_space.n).to(DEVICE)\n",
    "stateval_network = StateValueNetwork(env.observation_space.shape[0]).to(DEVICE)\n",
    "\n",
    "#Init optimizer\n",
    "policy_optimizer = optim.Adam(policy_network.parameters(), lr=0.001)\n",
    "stateval_optimizer = optim.Adam(stateval_network.parameters(), lr=0.001)\n",
    "print(\"Environment and Networks Initialized\")\n",
    "print(f\"State Space: {env.observation_space.shape[0]} dimensions\")\n",
    "print(f\"Action Space: {env.action_space.n} actions\")\n",
    "print(f\"Policy Network: {policy_network}\")\n",
    "print(f\"State Value Network: {stateval_network}\")"
   ]
  },
  {
   "cell_type": "code",
   "execution_count": 8,
   "metadata": {},
   "outputs": [
    {
     "name": "stderr",
     "output_type": "stream",
     "text": [
      "  0%|          | 0/100 [00:00<?, ?it/s]c:\\Users\\supri\\anaconda3\\envs\\REINOFRCEMENT\\lib\\site-packages\\gym\\utils\\passive_env_checker.py:233: DeprecationWarning: `np.bool8` is a deprecated alias for `np.bool_`.  (Deprecated NumPy 1.24)\n",
      "  if not isinstance(terminated, (bool, np.bool8)):\n",
      "100%|██████████| 100/100 [33:13<00:00, 19.94s/it]  "
     ]
    },
    {
     "name": "stdout",
     "output_type": "stream",
     "text": [
      "Scores: [-233.71123593655457, -658.4020946539567, -689.858075566806, -488.8507097196401, -426.0772265078745, -102.16530924964924, -89.98412530489513, -272.8617414744159, -248.57210131473545, -153.52974741131337, -180.8134786880691, -449.4902417260872, -316.3731452303558, -263.46320998475227, -481.38735294842394, -222.52437047641175, -176.97865350979373, -266.24739288094554, -209.97515679843647, -172.19127693330512, -72.30191034383239, -323.3487176262005, -276.2001132278794, -210.2100012126079, -78.79124211053451, -86.78020266841504, -38.15333178658433, -1283.4775448530925, 9.788147944877096, -408.3592978056354, -344.0170631298796, 13.53330256948172, -164.34430556652745, -105.77944162168299, -131.88086522537606, -56.73158413962579, -125.24511927993034, -147.67685584612707, -239.66015091758447, -11.290572710690185, -198.27498915882168, -149.01463996164958, -114.45159403029699, -158.8389613091341, -58.924040831220516, -201.46469373837584, 205.3661146296305, -105.71639286800394, -53.68969832270546, -195.57467345179796, -11.329145348517045, -180.35679892351232, 34.960530561811, -73.08700968900531, -220.51352121706975, -204.79690067474655, -178.02812320775413, -1050.8953508740556, -221.25163357225065, -197.90096465674603, -149.92268612497068, -53.03354223222892, -44.69035170294373, -54.673745793663315, -147.1418175140911, -165.7696607419883, 53.60247741174132, -50.69425798174678, -185.098051999746, -177.4542725218251, -40.31028410239439, -848.7328224824997, -251.5449654852732, -247.3404992744198, 140.68630760581468, -288.90126249657635, 107.55019156844571, -210.500338637521, -196.5793028626986, -220.64327425192909, -18.40844966232838, -167.53403444127298, -760.5769948278555, -225.01548125354583, -87.51390499379784, -196.38052373311865, -186.19216310496097, -163.95040859302722, -49.20718531927268, -247.91620984734496, -187.41514450252163, -208.8948251932614, 206.39665852394774, -164.72838878261837, -44.433701015005965, -215.9572754597659, -213.24084065142154, 275.5758451639357, -190.8044574416167, -179.31786618976332]\n"
     ]
    },
    {
     "name": "stderr",
     "output_type": "stream",
     "text": [
      "\n"
     ]
    }
   ],
   "source": [
    "scores = []\n",
    "\n",
    "# Track recent scores\n",
    "recent_scores = deque(maxlen=100)\n",
    "\n",
    "# Run episodes\n",
    "for episode in tqdm(range(NUM_EPISODES)):\n",
    "\n",
    "    state = env.reset()  # Extract state from the tuple returned by env.reset()\n",
    "    if isinstance(state, tuple):\n",
    "        state = state[0]  # Get the state from the tuple\n",
    "    state = np.array(state)  # Ensure state is a NumPy array\n",
    "    done = False\n",
    "    score = 0\n",
    "    I = 1\n",
    "\n",
    "    # Run episode, update online\n",
    "    for step in range(MAX_STEPS):\n",
    "\n",
    "        # Get action and log probability\n",
    "        action, lp = select_action(policy_network, state)\n",
    "        \n",
    "        # Step with action\n",
    "        result = env.step(action)\n",
    "\n",
    "        if len(result) == 4:\n",
    "            new_state, reward, done, _ = result\n",
    "        elif len(result) == 5:\n",
    "            new_state, reward, done, _, _ = result\n",
    "        else:\n",
    "            raise ValueError(\"Unexpected result from env.step()\")\n",
    "\n",
    "        # Update episode score\n",
    "        score += reward\n",
    "        \n",
    "        # Get state value of current state\n",
    "        state_tensor = torch.from_numpy(state).float().unsqueeze(0).to(DEVICE)\n",
    "        state_val = stateval_network(state_tensor)\n",
    "        \n",
    "        # Get state value of next state\n",
    "        new_state_tensor = torch.from_numpy(new_state).float().unsqueeze(0).to(DEVICE)\n",
    "        new_state_val = stateval_network(new_state_tensor)\n",
    "      \n",
    "        # If terminal state, next state val is 0\n",
    "        if done:\n",
    "            new_state_val = torch.tensor([0]).float().unsqueeze(0).to(DEVICE)\n",
    " \n",
    "        # Calculate value function loss with MSE\n",
    "        val_loss = F.mse_loss(reward + DISCOUNT_FACTOR * new_state_val, state_val)\n",
    "        val_loss *= I\n",
    "\n",
    "        # Calculate policy loss\n",
    "        advantage = reward + DISCOUNT_FACTOR * new_state_val.item() - state_val.item()\n",
    "        policy_loss = -lp * advantage\n",
    "        policy_loss *= I\n",
    "       \n",
    "        # Backpropagate policy\n",
    "        policy_optimizer.zero_grad()\n",
    "        policy_loss.backward(retain_graph=True)\n",
    "        policy_optimizer.step()\n",
    "\n",
    "        # Backpropagate value\n",
    "        stateval_optimizer.zero_grad()\n",
    "        val_loss.backward()\n",
    "        stateval_optimizer.step()\n",
    "\n",
    "        if done:\n",
    "            break\n",
    "        # Move into new state, discount I\n",
    "        state = new_state\n",
    "        I *= DISCOUNT_FACTOR\n",
    "    # Append episode score\n",
    "    scores.append(score)\n",
    "    recent_scores.append(score)\n",
    "    \n",
    "    # Early stopping if we meet solved score goal\n",
    "    if np.array(recent_scores).mean() >= SOLVED_SCORE:\n",
    "        break\n",
    "\n",
    "\n",
    "print(\"Scores:\", scores)"
   ]
  },
  {
   "cell_type": "code",
   "execution_count": 9,
   "metadata": {},
   "outputs": [
    {
     "name": "stderr",
     "output_type": "stream",
     "text": [
      "No artists with labels found to put in legend.  Note that artists whose label start with an underscore are ignored when legend() is called with no argument.\n"
     ]
    },
    {
     "data": {
      "image/png": "[encoded data removed]",
      "text/plain": [
       "<Figure size 640x480 with 1 Axes>"
      ]
     },
     "metadata": {},
     "output_type": "display_data"
    }
   ],
   "source": [
    "import matplotlib.pyplot as plt\n",
    "from sklearn.linear_model import LinearRegression\n",
    "import seaborn as sns\n",
    "import numpy as np\n",
    "\n",
    "sns.set()\n",
    "\n",
    "plt.plot(scores)\n",
    "plt.ylabel('Score')\n",
    "plt.xlabel('Episodes')\n",
    "plt.title('Training Score of LunarLander-v2 Actor-Critic TD(0)')\n",
    "\n",
    "# Linear regression\n",
    "reg = LinearRegression().fit(np.arange(len(scores)).reshape(-1, 1), np.array(scores).reshape(-1, 1))\n",
    "y_pred = reg.predict(np.arange(len(scores)).reshape(-1, 1))\n",
    "plt.plot(y_pred)\n",
    "\n",
    "plt.legend()\n",
    "plt.show()\n"
   ]
  },
  {
   "cell_type": "code",
   "execution_count": 10,
   "metadata": {},
   "outputs": [
    {
     "name": "stderr",
     "output_type": "stream",
     "text": [
      "100%|██████████| 20/20 [02:11<00:00,  6.57s/it]"
     ]
    },
    {
     "name": "stdout",
     "output_type": "stream",
     "text": [
      "[-190.1076055629264, 157.4235164136792, 162.61498645054684, 28.574951963770076, -15.462281594553218, 201.19707848552952, -21.984102289359953, -80.24131031212792, 69.8639529435286, -16.19934942989812, -181.70870702263602, 89.18568455004271, -219.46199690435043, 50.19341787440715, -187.3835883395314, -36.54633363059124, 64.45558646775996, -188.6508972859421, 20.73567566532013, -66.97899381768624]\n"
     ]
    },
    {
     "name": "stderr",
     "output_type": "stream",
     "text": [
      "\n"
     ]
    }
   ],
   "source": [
    "scores = []\n",
    "\n",
    "for _ in tqdm(range(20)):\n",
    "    state = env.reset()\n",
    "    if isinstance(state, tuple):\n",
    "        state = state[0]\n",
    "        \n",
    "    done = False\n",
    "    score = 0\n",
    "    \n",
    "    while not done:\n",
    "        action, _ = select_action(policy_network, state)  \n",
    "        result = env.step(action)\n",
    "        \n",
    "        new_state, reward, done, truncated, info = result\n",
    "        done = done or truncated\n",
    "        \n",
    "        if isinstance(new_state, tuple):\n",
    "            new_state = new_state[0]\n",
    "        \n",
    "        score += reward\n",
    "        state = new_state\n",
    "    \n",
    "    scores.append(score)\n",
    "print(scores)\n",
    "\n",
    "env.close()\n"
   ]
  },
  {
   "cell_type": "code",
   "execution_count": 11,
   "metadata": {},
   "outputs": [],
   "source": [
    "env.close()"
   ]
  },
  {
   "cell_type": "code",
   "execution_count": 12,
   "metadata": {},
   "outputs": [
    {
     "data": {
      "text/plain": [
       "-18.024015768750946"
      ]
     },
     "execution_count": 12,
     "metadata": {},
     "output_type": "execute_result"
    }
   ],
   "source": [
    "np.array(scores).mean()"
   ]
  }
 ],
 "metadata": {
  "kernelspec": {
   "display_name": "base",
   "language": "python",
   "name": "python3"
  },
  "language_info": {
   "codemirror_mode": {
    "name": "ipython",
    "version": 3
   },
   "file_extension": ".py",
   "mimetype": "text/x-python",
   "name": "python",
   "nbconvert_exporter": "python",
   "pygments_lexer": "ipython3",
   "version": "3.8.19"
  }
 },
 "nbformat": 4,
 "nbformat_minor": 2
}
